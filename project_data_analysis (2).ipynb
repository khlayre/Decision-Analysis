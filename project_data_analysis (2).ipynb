{
 "cells": [
  {
   "cell_type": "code",
   "execution_count": 1,
   "metadata": {},
   "outputs": [],
   "source": [
    "import pandas as pd\n",
    "import numpy as np\n",
    "import scipy as sp\n",
    "import math"
   ]
  },
  {
   "cell_type": "code",
   "execution_count": 3,
   "metadata": {},
   "outputs": [],
   "source": [
    "data = pd.read_csv(r'/Users/angelaokorie/Documents/DISSERTATION/python/project_data - correct_project_data.csv', skiprows = [i for i in range(1, 3) ])"
   ]
  },
  {
   "cell_type": "code",
   "execution_count": 4,
   "metadata": {},
   "outputs": [],
   "source": [
    "def data_processing(direction, strength):\n",
    "        \n",
    "        # create array for pairwise comparison (PC)\n",
    "        pc = np.zeros(len(strength))\n",
    "        length = len(strength)\n",
    "        for i in range(0, int(length)):\n",
    "            d = direction[int(i)]\n",
    "            s = 2\n",
    "            if strength[int(i)] != 0:\n",
    "                s = strength[int(i)]\n",
    "            if d == 1:\n",
    "                pc[int(i)] = s\n",
    "            elif d == 2:\n",
    "                pc[int(i)] = (1/s)\n",
    "            else:\n",
    "                pc[int(i)] = 1      \n",
    "\n",
    "        # create pairwise comparison matrix (PCM)\n",
    "        pcm = np.array([\n",
    "            [1, pc[0], pc[1], pc[2]],\n",
    "            [1/pc[0], 1, pc[3], pc[4]],\n",
    "            [1/pc[1], 1/pc[3], 1, pc[5]],\n",
    "            [1/pc[2], 1/pc[4], 1/pc[5], 1]\n",
    "        ])\n",
    "\n",
    "        # create rgm array\n",
    "        rgm = np.zeros(len(pcm))\n",
    "        sigma_rgm = 0\n",
    "        for i in range(0, int(len(rgm))):\n",
    "            rgm[i] = 1\n",
    "            for j in range(0, int(len(pcm[i]))): \n",
    "                rgm[i] = np.dot(rgm[i],pcm[i][j])\n",
    "            rgm[i] = rgm[i]**(1/len(pcm))\n",
    "            sigma_rgm = rgm[i]+ sigma_rgm\n",
    "\n",
    "        # create gm array\n",
    "        gm = np.zeros(len(pcm))\n",
    "        for i in range(0, int(len(rgm))):\n",
    "            gm[i] = (rgm[i])/(sigma_rgm)\n",
    "\n",
    "        # get factor weightings\n",
    "        Factor1 = round(100*gm[0])\n",
    "        Factor2 = round(100*gm[1])\n",
    "        Factor3 = round(100*gm[2])\n",
    "        Factor4 = round(100*gm[3])\n",
    "\n",
    "        return [Factor1, Factor2, Factor3, Factor4]"
   ]
  },
  {
   "cell_type": "code",
   "execution_count": 5,
   "metadata": {},
   "outputs": [],
   "source": [
    "def question_analysis():\n",
    "    \n",
    "    for row in data:\n",
    "        df_1 = pd.DataFrame(data, columns=[\"Q1\",\"Q2\",\"Q3\",\"Q4\",\"Q5\",\"Q6\",\"Q1a\",\"Q2a\",\"Q3a\",\"Q4a\",\"Q5a\",\"Q6a\"])\n",
    "        df_2 = pd.DataFrame(data, columns=[\"Q9\",\"Q10\",\"Q11\",\"Q12\",\"Q13\",\"Q14\",\"Q9a\",\"Q10a\",\"Q11a\",\"Q12a\",\"Q13a\",\"Q14a\"])\n",
    "        df_3 = pd.DataFrame(data, columns=[\"Q17\",\"Q18\",\"Q19\",\"Q20\",\"Q21\",\"Q22\",\"Q17a\",\"Q18a\",\"Q19a\",\"Q20a\",\"Q21a\",\"Q22a\"])\n",
    "    project_data_1, project_data_2, project_data_3 = df_1,df_2,df_3\n",
    "\n",
    "\n",
    "    \n",
    "    updated_df_1 = pd.DataFrame(columns = ['Cost of Car', 'Features', 'Durability', 'Brand'])\n",
    "    updated_df_2 = pd.DataFrame(columns = ['Cost of Fashion', 'Ethical Supply chain', 'Range of Products', 'Quality'])\n",
    "    updated_df_3 = pd.DataFrame(columns = ['Cost', 'Ease of Entry', 'Historical Sites', 'Safety'])\n",
    "    \n",
    "    #update range value to the last row index in the data set.\n",
    "    for i in range(46):\n",
    "        direction_1 = np.array(df_1.iloc[int(i), 0:6])\n",
    "        strength_1 = np.array(df_1.iloc[int(i), 6:])\n",
    "        \n",
    "        direction_2 = np.array(df_2.iloc[int(i), 0:6])\n",
    "        strength_2 = np.array(df_2.iloc[int(i), 6:])\n",
    "        \n",
    "        direction_3 = np.array(df_3.iloc[int(i), 0:6])\n",
    "        strength_3 = np.array(df_3.iloc[int(i), 6:])\n",
    "        \n",
    "        processed1 = data_processing(direction_1, strength_1)\n",
    "        processed2 = data_processing(direction_2, strength_2)\n",
    "        processed = data_processing(direction_3, strength_3)\n",
    "        \n",
    "        updated_df_1 = updated_df_1.append({'Cost of Car': processed1[0], 'Features': processed1[1], \n",
    "                                            'Durability': processed1[2], 'Brand': processed1[3]}, ignore_index=True)\n",
    "        updated_df_2 = updated_df_2.append({'Cost of Fashion': processed2[0], 'Ethical Supply chain': processed2[1], \n",
    "                         'Range of Products': processed2[2], 'Quality': processed2[3]}, ignore_index=True)\n",
    "        updated_df_3 = updated_df_3.append({'Cost': processed[0], 'Ease of Entry': processed[1], \n",
    "                     'Historical Sites': processed[2], 'Safety': processed[3]}, ignore_index=True)\n",
    "        \n",
    "    frames = [updated_df_1, updated_df_2, updated_df_3]\n",
    "    result = pd.concat(frames,axis=1, join=\"inner\")\n",
    "    return result"
   ]
  },
  {
   "cell_type": "code",
   "execution_count": 6,
   "metadata": {},
   "outputs": [],
   "source": [
    "analysis = question_analysis()\n",
    "a = pd.DataFrame(analysis)\n",
    "\n",
    "a.to_csv('//Users/angelaokorie/Documents/DISSERTATION/python/solution.csv', index=False)"
   ]
  },
  {
   "cell_type": "code",
   "execution_count": 7,
   "metadata": {},
   "outputs": [
    {
     "name": "stdout",
     "output_type": "stream",
     "text": [
      "[1 2 2 2 2 3]\n",
      "[7 8 8 8 8 7]\n",
      "{'Cost of Fashion': 9.0, 'Ethical Supply chain': 3.0, 'Range of Products': 44.0, 'Quality': 44.0}\n"
     ]
    }
   ],
   "source": [
    "\n",
    "print(logger(0))"
   ]
  },
  {
   "cell_type": "code",
   "execution_count": null,
   "metadata": {},
   "outputs": [],
   "source": []
  }
 ],
 "metadata": {
  "kernelspec": {
   "display_name": "Python 3",
   "language": "python",
   "name": "python3"
  },
  "language_info": {
   "codemirror_mode": {
    "name": "ipython",
    "version": 3
   },
   "file_extension": ".py",
   "mimetype": "text/x-python",
   "name": "python",
   "nbconvert_exporter": "python",
   "pygments_lexer": "ipython3",
   "version": "3.8.3"
  }
 },
 "nbformat": 4,
 "nbformat_minor": 5
}
